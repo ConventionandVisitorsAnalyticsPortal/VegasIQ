{
 "cells": [
  {
   "cell_type": "code",
   "execution_count": 57,
   "id": "1b539bb3-374d-4e24-ae1c-58eed871e02c",
   "metadata": {},
   "outputs": [
    {
     "name": "stdout",
     "output_type": "stream",
     "text": [
      "Requirement already satisfied: pandas in c:\\users\\unlv-student\\anaconda3\\lib\\site-packages (2.2.2)\n",
      "Requirement already satisfied: numpy>=1.26.0 in c:\\users\\unlv-student\\anaconda3\\lib\\site-packages (from pandas) (1.26.4)\n",
      "Requirement already satisfied: python-dateutil>=2.8.2 in c:\\users\\unlv-student\\anaconda3\\lib\\site-packages (from pandas) (2.9.0.post0)\n",
      "Requirement already satisfied: pytz>=2020.1 in c:\\users\\unlv-student\\anaconda3\\lib\\site-packages (from pandas) (2024.1)\n",
      "Requirement already satisfied: tzdata>=2022.7 in c:\\users\\unlv-student\\anaconda3\\lib\\site-packages (from pandas) (2023.3)\n",
      "Requirement already satisfied: six>=1.5 in c:\\users\\unlv-student\\anaconda3\\lib\\site-packages (from python-dateutil>=2.8.2->pandas) (1.16.0)\n",
      "Note: you may need to restart the kernel to use updated packages.\n"
     ]
    }
   ],
   "source": [
    "#pip install pandas"
   ]
  },
  {
   "cell_type": "code",
   "execution_count": 117,
   "id": "1696b7ae-fab2-43c9-abb2-d3586c3ac62a",
   "metadata": {},
   "outputs": [],
   "source": [
    "import pandas as pd\n",
    "import os\n",
    "# Reset Pandas Print option to print all rows and columns\n",
    "pd.set_option('display.max_rows', None)\n",
    "pd.set_option('display.max_columns', None)\n",
    "pd.set_option('display.width', None)\n",
    "pd.set_option('display.max_colwidth', None)\n"
   ]
  },
  {
   "cell_type": "code",
   "execution_count": 119,
   "id": "6ac81567-acf6-4cc7-acf7-07f96a23ee11",
   "metadata": {},
   "outputs": [],
   "source": [
    "# Load csv file\n",
    "def load_data(file_path):\n",
    "    try:\n",
    "        data = pd.read_csv(file_path)\n",
    "        print(\"File loaded successfully\")\n",
    "        return data\n",
    "    except FileNotFoundError:\n",
    "        print(\"File not found. Please check the path and try again.\")\n",
    "        return None\n"
   ]
  },
  {
   "cell_type": "code",
   "execution_count": 121,
   "id": "13816971-9b8e-4b8f-b2a2-5b86ce0b165f",
   "metadata": {},
   "outputs": [],
   "source": [
    "# Sort data by property name\n",
    "def sort_data(data, order = \"AZ\"):\n",
    "    if order == \"AZ\":\n",
    "        sorted_data = data.sort_values(by=\"Property Name\", ascending=True)\n",
    "    elif order ==\"ZA\":\n",
    "        sorted_data = data.sort_values(by=\"Property Name\", ascending=False)\n",
    "    else:\n",
    "        print(\"Invalid sort order\")\n",
    "    return sorted_data\n",
    "    "
   ]
  },
  {
   "cell_type": "code",
   "execution_count": 139,
   "id": "ccc095d7-7574-4a42-9adf-47a976b64b87",
   "metadata": {},
   "outputs": [],
   "source": [
    "# Filter data by space (sq ft)\n",
    "def filter_by_space(data, min_size, max_size):\n",
    "        # Remove commas and convert the 'Exhibit Meeting Area' column to integers\n",
    "    data['Exhibit Meeting Area'] = data['Exhibit Meeting Area'].str.replace(',', '').astype(int)\n",
    "    \n",
    "    # Apply the filter without int()\n",
    "    filtered_data = data[(data['Exhibit Meeting Area'] >= min_size) & (data['Exhibit Meeting Area'] <= max_size)]\n",
    "    \n",
    "    return filtered_data"
   ]
  },
  {
   "cell_type": "code",
   "execution_count": 141,
   "id": "ac5be7e9-192e-440c-9a29-a190f6bc7757",
   "metadata": {},
   "outputs": [],
   "source": [
    "# Print menu for user options\n",
    "def menu():\n",
    "    print(\"\\n1. Sort Alphabetically from A to Z\")\n",
    "    print(\"2. Sort Alphabetically from Z to A\")\n",
    "    print(\"3. Print by Space\")\n",
    "    print(\"4. Exit\")\n",
    "    "
   ]
  },
  {
   "cell_type": "code",
   "execution_count": 143,
   "id": "f0d6580f-70cb-4531-b9d4-125b7b615fc2",
   "metadata": {},
   "outputs": [],
   "source": [
    "# Define the main function\n",
    "def main():\n",
    "    file_path = input(\"Enter the file path to the csv file:\")\n",
    "    data = load_data(file_path)\n",
    "\n",
    "    if data is None:\n",
    "        return\n",
    "\n",
    "    while True:\n",
    "        menu()\n",
    "        choice = input(\"\\nChoose an option: \")\n",
    "\n",
    "        if choice == '1':\n",
    "            sorted_data = sort_data(data, \"AZ\")\n",
    "            print(sorted_data.to_string(index = False))\n",
    "        elif choice == '2':\n",
    "            sorted_data = sort_data(data, \"ZA\")\n",
    "            print(sorted_data.to_string(index = False))\n",
    "        elif choice == '3':\n",
    "            try:\n",
    "                min_size = int(input(\"Enter the minimum meeting space size (sq ft): \"))\n",
    "                max_size = int(input(\"Enter the maximum meeting space size (sq ft): \"))\n",
    "                print(\"Under Construction\")\n",
    "                filtered_data = filter_by_space(data, min_size, max_size)\n",
    "                if not filtered_data.empty:\n",
    "                    print(filtered_data)\n",
    "                else:\n",
    "                    print(f\"No properties found between {min_size} and {max_size} sq ft.\")\n",
    "            except ValueError:\n",
    "                print(\"Please enter valid numeric values for space.\")\n",
    "\n",
    "        elif choice == '4':\n",
    "            print(\"Exiting the program.\")\n",
    "            break\n",
    "\n",
    "        else: \n",
    "            print(\"Invalid choice, please try again\")\n",
    "\n"
   ]
  },
  {
   "cell_type": "code",
   "execution_count": null,
   "id": "cda147fa-85a0-4bd4-90fc-15246984acb1",
   "metadata": {},
   "outputs": [
    {
     "name": "stdout",
     "output_type": "stream",
     "text": [
      "File loaded successfully\n",
      "\n",
      "1. Sort Alphabetically from A to Z\n",
      "2. Sort Alphabetically from Z to A\n",
      "3. Print by Space\n",
      "4. Exit\n"
     ]
    },
    {
     "name": "stdin",
     "output_type": "stream",
     "text": [
      "\n",
      "Choose an option:  3\n",
      "Enter the minimum meeting space size (sq ft):  1\n",
      "Enter the maximum meeting space size (sq ft):  1\n"
     ]
    },
    {
     "name": "stdout",
     "output_type": "stream",
     "text": [
      "No properties found between 1 and 1 sq ft.\n",
      "\n",
      "1. Sort Alphabetically from A to Z\n",
      "2. Sort Alphabetically from Z to A\n",
      "3. Print by Space\n",
      "4. Exit\n"
     ]
    }
   ],
   "source": [
    "\n",
    "main()"
   ]
  },
  {
   "cell_type": "code",
   "execution_count": null,
   "id": "5320d795-aa27-4d7e-93e1-f72baf121a81",
   "metadata": {},
   "outputs": [],
   "source": []
  },
  {
   "cell_type": "code",
   "execution_count": null,
   "id": "02ed0f7e-cdf8-46ea-a5ab-aa29f9d0b38e",
   "metadata": {},
   "outputs": [],
   "source": []
  }
 ],
 "metadata": {
  "kernelspec": {
   "display_name": "Python 3 (ipykernel)",
   "language": "python",
   "name": "python3"
  },
  "language_info": {
   "codemirror_mode": {
    "name": "ipython",
    "version": 3
   },
   "file_extension": ".py",
   "mimetype": "text/x-python",
   "name": "python",
   "nbconvert_exporter": "python",
   "pygments_lexer": "ipython3",
   "version": "3.12.4"
  }
 },
 "nbformat": 4,
 "nbformat_minor": 5
}
