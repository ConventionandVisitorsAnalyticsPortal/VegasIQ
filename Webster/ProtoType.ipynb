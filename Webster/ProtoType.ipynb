{
 "cells": [
  {
   "cell_type": "code",
   "execution_count": 93,
   "id": "cdd5cb91-8e5a-4b92-9f97-679b863b43b2",
   "metadata": {},
   "outputs": [
    {
     "name": "stdout",
     "output_type": "stream",
     "text": [
      "\n",
      " -------------   VegasIQ   ------------------\n",
      "\n",
      " Las Vegas Travel and Convention Intelligence\n",
      " \n",
      " ---------------------------------------------\n",
      "1. Las Vegas Events Database\n",
      "2. Las Vegas Weather Data\n",
      "3. Las Vegas Airport Statistics\n",
      "4. Clark County Room Inventory\n",
      "5. Clark County Meeting Space Inventory\n",
      "6. User Administration\n",
      "7. System Exit\n",
      " \n"
     ]
    },
    {
     "name": "stdin",
     "output_type": "stream",
     "text": [
      "Choose a menu option: 1\n"
     ]
    },
    {
     "data": {
      "text/plain": [
       "'1'"
      ]
     },
     "execution_count": 93,
     "metadata": {},
     "output_type": "execute_result"
    }
   ],
   "source": [
    "# Main Menu\n",
    "print(\"\\n -------------   VegasIQ   ------------------\")\n",
    "print(\"\\n Las Vegas Travel and Convention Intelligence\")\n",
    "print(\" \")\n",
    "print(\" ---------------------------------------------\")\n",
    "print(\"1. Las Vegas Events Database\")\n",
    "print(\"2. Las Vegas Weather Data\")\n",
    "print(\"3. Las Vegas Airport Statistics\")\n",
    "print(\"4. Clark County Room Inventory\")\n",
    "print(\"5. Clark County Meeting Space Inventory\")\n",
    "print(\"6. User Administration\")\n",
    "print(\"7. System Exit\")\n",
    "print(\" \")\n",
    "input(\"Choose a menu option:\")"
   ]
  },
  {
   "cell_type": "code",
   "execution_count": null,
   "id": "3725fa44-6b5a-4ef8-a683-40ee87d3bb72",
   "metadata": {},
   "outputs": [],
   "source": []
  },
  {
   "cell_type": "code",
   "execution_count": 95,
   "id": "7de82ee0-237e-476a-b21a-e2f70ebf70a7",
   "metadata": {},
   "outputs": [
    {
     "name": "stdout",
     "output_type": "stream",
     "text": [
      "\n",
      " -------------   VegasIQ   ------------------\n",
      "\n",
      " Las Vegas Travel and Convention Intelligence\n",
      "         Las Vegas Events Database             \n",
      " ---------------------------------------------\n",
      "1. Las Vegas Events List\n",
      "2. Las Vegas Events Filter\n",
      "3. Las Vegas Events Finder\n",
      "4. Main Menu\n",
      "5. System Exit\n",
      " \n"
     ]
    },
    {
     "name": "stdin",
     "output_type": "stream",
     "text": [
      "Choose a menu option: 2\n"
     ]
    },
    {
     "data": {
      "text/plain": [
       "'2'"
      ]
     },
     "execution_count": 95,
     "metadata": {},
     "output_type": "execute_result"
    }
   ],
   "source": [
    "# Main Menu Choice 1 - Events Database\n",
    "print(\"\\n -------------   VegasIQ   ------------------\")\n",
    "print(\"\\n Las Vegas Travel and Convention Intelligence\")\n",
    "print(\"         Las Vegas Events Database             \")\n",
    "print(\" ---------------------------------------------\")\n",
    "print(\"1. Las Vegas Events List\")\n",
    "print(\"2. Las Vegas Events Filter\")\n",
    "print(\"3. Las Vegas Events Finder\")\n",
    "print(\"4. Main Menu\")\n",
    "print(\"5. System Exit\")\n",
    "print(\" \")\n",
    "input(\"Choose a menu option:\")\n"
   ]
  },
  {
   "cell_type": "code",
   "execution_count": 97,
   "id": "5748ec92-f066-4268-a957-e21590691f78",
   "metadata": {},
   "outputs": [
    {
     "name": "stdout",
     "output_type": "stream",
     "text": [
      "\n",
      " -------------   VegasIQ   ------------------\n",
      "\n",
      " Las Vegas Travel and Convention Intelligence\n",
      "         Las Vegas Weather Data                \n",
      " ---------------------------------------------\n",
      "1. Las Vegas Weather Report 1\n",
      "2. Las Vegas Weather Report 2\n",
      "3. Las Vegas Weather Report 3\n",
      "4. Main Menu\n",
      "5. System Exit\n",
      " \n"
     ]
    },
    {
     "name": "stdin",
     "output_type": "stream",
     "text": [
      "Choose an menu option: 3\n"
     ]
    },
    {
     "data": {
      "text/plain": [
       "'3'"
      ]
     },
     "execution_count": 97,
     "metadata": {},
     "output_type": "execute_result"
    }
   ],
   "source": [
    "# Main Menu Choice 2 -  Weather Database\n",
    "print(\"\\n -------------   VegasIQ   ------------------\")\n",
    "print(\"\\n Las Vegas Travel and Convention Intelligence\")\n",
    "print(\"         Las Vegas Weather Data                \")\n",
    "print(\" ---------------------------------------------\")\n",
    "print(\"1. Las Vegas Weather Report 1\")\n",
    "print(\"2. Las Vegas Weather Report 2\")\n",
    "print(\"3. Las Vegas Weather Report 3\")\n",
    "print(\"4. Main Menu\")\n",
    "print(\"5. System Exit\")\n",
    "print(\" \")\n",
    "input(\"Choose a menu option:\")\n"
   ]
  },
  {
   "cell_type": "code",
   "execution_count": 99,
   "id": "0e89e76d-6ee4-475a-ba47-000cdb3fe5e1",
   "metadata": {},
   "outputs": [
    {
     "name": "stdout",
     "output_type": "stream",
     "text": [
      "\n",
      " -------------   VegasIQ   ------------------\n",
      "\n",
      " Las Vegas Travel and Convention Intelligence\n",
      "         Las Vegas Airport Statistics          \n",
      " ---------------------------------------------\n",
      "1. Las Vegas Airport Report1\n",
      "2. Las Vegas Airport Report2\n",
      "3. Las Vegas Airport Report3\n",
      "4. Main Menu\n",
      "5. System Exit\n",
      " \n"
     ]
    },
    {
     "name": "stdin",
     "output_type": "stream",
     "text": [
      "Choose a menu option: 4\n"
     ]
    },
    {
     "data": {
      "text/plain": [
       "'4'"
      ]
     },
     "execution_count": 99,
     "metadata": {},
     "output_type": "execute_result"
    }
   ],
   "source": [
    "# Main Menu Choice 3 Airport Statistics\n",
    "print(\"\\n -------------   VegasIQ   ------------------\")\n",
    "print(\"\\n Las Vegas Travel and Convention Intelligence\")\n",
    "print(\"         Las Vegas Airport Statistics          \")\n",
    "print(\" ---------------------------------------------\")\n",
    "print(\"1. Las Vegas Airport Report1\")\n",
    "print(\"2. Las Vegas Airport Report2\")\n",
    "print(\"3. Las Vegas Airport Report3\")\n",
    "\n",
    "print(\"5. System Exit\")\n",
    "print(\" \")\n",
    "input(\"Choose a menu option:\")\n",
    "#this is a test change\n",
    "\n"
   ]
  },
  {
   "cell_type": "code",
   "execution_count": 103,
   "id": "9532930a-7c73-4a9d-b22b-dd7a7f63c5c4",
   "metadata": {},
   "outputs": [
    {
     "name": "stdout",
     "output_type": "stream",
     "text": [
      "\n",
      " -------------   VegasIQ   ------------------\n",
      "\n",
      " Las Vegas Travel and Convention Intelligence\n",
      "         Clark County Room Inventory            \n",
      " ---------------------------------------------\n",
      "1. County Room Inventory - Alpha Sort\n",
      "2. County Room Inventory - Room Count Sort\n",
      "3. County Room Inventory - Filter by Count\n",
      "4. Main Menu\n",
      "5. System Exit\n",
      " \n"
     ]
    },
    {
     "name": "stdin",
     "output_type": "stream",
     "text": [
      "Choose a menu option: 5\n"
     ]
    },
    {
     "data": {
      "text/plain": [
       "'5'"
      ]
     },
     "execution_count": 103,
     "metadata": {},
     "output_type": "execute_result"
    }
   ],
   "source": [
    "# Menu Choice 1 Events Database\n",
    "print(\"\\n -------------   VegasIQ   ------------------\")\n",
    "print(\"\\n Las Vegas Travel and Convention Intelligence\")\n",
    "print(\"         Clark County Room Inventory            \")\n",
    "print(\" ---------------------------------------------\")\n",
    "print(\"1. County Room Inventory - Alpha Sort\")\n",
    "print(\"2. County Room Inventory - Room Count Sort\")\n",
    "print(\"3. County Room Inventory - Filter by Count\")\n",
    "print(\"4. Main Menu\")\n",
    "print(\"5. System Exit\")\n",
    "print(\" \")\n",
    "input(\"Choose a menu option:\")\n",
    "\n"
   ]
  },
  {
   "cell_type": "code",
   "execution_count": null,
   "id": "341df4b8-7c21-4b5c-81c5-8d8f939705b9",
   "metadata": {},
   "outputs": [
    {
     "name": "stdout",
     "output_type": "stream",
     "text": [
      "\n",
      " -------------   VegasIQ   ------------------\n",
      "\n",
      " Las Vegas Travel and Convention Intelligence\n",
      "   Clark County Meeting Space Inventory        \n",
      " ---------------------------------------------\n",
      "1. County Room Meeting Space - Alpha Sort\n",
      "2. County Room Meeting Space - Size Sort\n",
      "3. County Room Meeting Space - Filter by Size\n",
      "4. Main Menu\n",
      "5. System Exit\n",
      " \n"
     ]
    }
   ],
   "source": [
    "# Menu Choice 1 Events Database\n",
    "print(\"\\n -------------   VegasIQ   ------------------\")\n",
    "print(\"\\n Las Vegas Travel and Convention Intelligence\")\n",
    "print(\"   Clark County Meeting Space Inventory        \")\n",
    "print(\" ---------------------------------------------\")\n",
    "print(\"1. County Room Meeting Space - Alpha Sort\")\n",
    "print(\"2. County Room Meeting Space - Size Sort\")\n",
    "print(\"3. County Room Meeting Space - Filter by Size\")\n",
    "print(\"4. Main Menu\")\n",
    "print(\"5. System Exit\")\n",
    "print(\" \")\n",
    "input(\"Choose a menu option:\")\n",
    "\n"
   ]
  },
  {
   "cell_type": "code",
   "execution_count": null,
   "id": "a8f15fec-81d0-415b-bdd5-c251423a451f",
   "metadata": {},
   "outputs": [],
   "source": []
  }
 ],
 "metadata": {
  "kernelspec": {
   "display_name": "Python 3 (ipykernel)",
   "language": "python",
   "name": "python3"
  },
  "language_info": {
   "codemirror_mode": {
    "name": "ipython",
    "version": 3
   },
   "file_extension": ".py",
   "mimetype": "text/x-python",
   "name": "python",
   "nbconvert_exporter": "python",
   "pygments_lexer": "ipython3",
   "version": "3.12.4"
  }
 },
 "nbformat": 4,
 "nbformat_minor": 5
}
