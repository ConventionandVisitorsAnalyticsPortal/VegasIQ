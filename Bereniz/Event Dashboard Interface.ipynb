{
 "cells": [
  {
   "cell_type": "code",
   "execution_count": 23,
   "id": "4c42b994-29f8-40a5-bf45-21dac6c7e0ea",
   "metadata": {},
   "outputs": [
    {
     "name": "stdout",
     "output_type": "stream",
     "text": [
      "\n",
      "-------------   VegasIQ   ------------------\n",
      " Las Vegas Travel and Convention Intelligence\n",
      " ---------------------------------------------\n",
      "1. Las Vegas Events Database\n",
      "2. Las Vegas Weather Data\n",
      "3. Las Vegas Airport Statistics\n",
      "4. Clark County Room Inventory\n",
      "5. Clark County Meeting Space Inventory\n",
      "6. User Administration\n",
      "7. System Exit\n"
     ]
    },
    {
     "name": "stdin",
     "output_type": "stream",
     "text": [
      "Enter your choice:  1\n"
     ]
    },
    {
     "name": "stdout",
     "output_type": "stream",
     "text": [
      "\n",
      "-- Las Vegas Events Database --\n",
      "1. Filter by Month\n",
      "2. Filter by Year\n",
      "3. Filter by Location (Venue)\n",
      "4. View All Events\n"
     ]
    },
    {
     "name": "stdin",
     "output_type": "stream",
     "text": [
      "Select an option:  1\n",
      "Enter the month (1-12):  12\n"
     ]
    },
    {
     "name": "stdout",
     "output_type": "stream",
     "text": [
      "                                                 Event Start Date    End Date  \\\n",
      "175               Amazon Web Services - re:Invent 2024 2024-12-02   12/6/2024   \n",
      "176  American Academy of Pediatrics (AAP) Annual Me... 2024-12-04   12/9/2024   \n",
      "177  Colorado River Water Users Association - 2024 ... 2024-12-04   12/6/2024   \n",
      "178                              Cowboy Christmas 2024 2024-12-05  12/14/2024   \n",
      "179               Rocky Mountain Elk Foundation - 2024 2024-12-05  12/14/2024   \n",
      "180                    Digital Signage Experience 2024 2024-12-07  12/10/2024   \n",
      "181                       Connect User Conference 2024 2024-12-08  12/12/2024   \n",
      "182          Live Design International - LDI Show 2024 2024-12-08  12/10/2024   \n",
      "183  IT Infrastructure, Operations and Cloud Strate... 2024-12-10  12/12/2024   \n",
      "184                  Miss International Queen USA 2024 2024-12-10  12/12/2024   \n",
      "185  National Ground Water Association (NGWA) Expo ... 2024-12-11  12/12/2024   \n",
      "186       Gin Rummy Association - 2024 Holiday Classic 2024-12-13  12/16/2024   \n",
      "187        NDHHS Commission Engagement Conference 2024 2024-12-13  12/14/2024   \n",
      "348               Amazon Web Services - re:Invent 2025 2025-12-02   12/6/2025   \n",
      "349  American Academy of Pediatrics (AAP) Annual Me... 2025-12-04   12/9/2025   \n",
      "350  Colorado River Water Users Association - 2025 ... 2025-12-04   12/6/2025   \n",
      "351                              Cowboy Christmas 2025 2025-12-05  12/14/2025   \n",
      "352               Rocky Mountain Elk Foundation - 2025 2025-12-05  12/14/2025   \n",
      "353                    Digital Signage Experience 2025 2025-12-07  12/10/2025   \n",
      "354                       Connect User Conference 2025 2025-12-08  12/12/2025   \n",
      "355          Live Design International - LDI Show 2025 2025-12-08  12/10/2025   \n",
      "356  IT Infrastructure, Operations and Cloud Strate... 2025-12-10  12/12/2025   \n",
      "357                  Miss International Queen USA 2025 2025-12-10  12/12/2025   \n",
      "358  National Ground Water Association (NGWA) Expo ... 2025-12-11  12/12/2025   \n",
      "359       Gin Rummy Association - 2025 Holiday Classic 2025-12-13  12/16/2025   \n",
      "360        NDHHS Commission Engagement Conference 2025 2025-12-13  12/14/2025   \n",
      "\n",
      "                             Venue  Est Attendees  \n",
      "175  The Venetian Resort Las Vegas          51000  \n",
      "176                 Caesars Palace          41000  \n",
      "177                Paris Las Vegas          57000  \n",
      "178    Las Vegas Convention Center           1000  \n",
      "179    Las Vegas Convention Center          60000  \n",
      "180    Las Vegas Convention Center          39000  \n",
      "181        Resorts World Las Vegas          52000  \n",
      "182    Las Vegas Convention Center          28000  \n",
      "183  The Venetian Resort Las Vegas          66000  \n",
      "184             Harrah's Las Vegas          86000  \n",
      "185    Las Vegas Convention Center          70000  \n",
      "186            Horseshoe Las Vegas          71000  \n",
      "187  Santa Fe Station Hotel Casino          85000  \n",
      "348  The Venetian Resort Las Vegas          51000  \n",
      "349                 Caesars Palace          41000  \n",
      "350                Paris Las Vegas          57000  \n",
      "351    Las Vegas Convention Center           1000  \n",
      "352    Las Vegas Convention Center          60000  \n",
      "353    Las Vegas Convention Center          39000  \n",
      "354        Resorts World Las Vegas          52000  \n",
      "355    Las Vegas Convention Center          28000  \n",
      "356  The Venetian Resort Las Vegas          66000  \n",
      "357             Harrah's Las Vegas          86000  \n",
      "358    Las Vegas Convention Center          70000  \n",
      "359            Horseshoe Las Vegas          71000  \n",
      "360  Santa Fe Station Hotel Casino          85000  \n",
      "\n",
      "-------------   VegasIQ   ------------------\n",
      " Las Vegas Travel and Convention Intelligence\n",
      " ---------------------------------------------\n",
      "1. Las Vegas Events Database\n",
      "2. Las Vegas Weather Data\n",
      "3. Las Vegas Airport Statistics\n",
      "4. Clark County Room Inventory\n",
      "5. Clark County Meeting Space Inventory\n",
      "6. User Administration\n",
      "7. System Exit\n"
     ]
    },
    {
     "name": "stdin",
     "output_type": "stream",
     "text": [
      "Enter your choice:  7\n"
     ]
    },
    {
     "name": "stdout",
     "output_type": "stream",
     "text": [
      "Exiting system...\n"
     ]
    }
   ],
   "source": [
    "import pandas as pd\n",
    "\n",
    "# Load the event data\n",
    "event_file_path = 'C:/Users/beren/Group Project/convention-calendar-2024-10-13_12-42-47.csv'\n",
    "event_data = pd.read_csv(event_file_path)\n",
    "\n",
    "# Convert date columns to datetime for filtering\n",
    "event_data['Start Date'] = pd.to_datetime(event_data['Start Date'], format='%m/%d/%Y')\n",
    "\n",
    "# Function to filter events based on user input\n",
    "def filter_events_dashboard(data, month=None, year=None, venue=None):\n",
    "    # Apply filters based on user input\n",
    "    if month:\n",
    "        data = data[data['Start Date'].dt.month == month]\n",
    "    if year:\n",
    "        data = data[data['Start Date'].dt.year == year]\n",
    "    if venue:\n",
    "        data = data[data['Venue'].str.contains(venue, case=False)]\n",
    "    \n",
    "    # Return the filtered data\n",
    "    return data[['Event', 'Start Date', 'End Date', 'Venue', 'Est Attendees']]\n",
    "\n",
    "# Function to handle Choice 1\n",
    "def events_database_menu():\n",
    "    print(\"\\n-- Las Vegas Events Database --\")\n",
    "    print(\"1. Filter by Month\")\n",
    "    print(\"2. Filter by Year\")\n",
    "    print(\"3. Filter by Location (Venue)\")\n",
    "    print(\"4. View All Events\")\n",
    "    \n",
    "    choice = input(\"Select an option: \")\n",
    "    \n",
    "    if choice == '1':\n",
    "        month = int(input(\"Enter the month (1-12): \"))\n",
    "        filtered_events = filter_events_dashboard(event_data, month=month)\n",
    "        print(filtered_events)\n",
    "    \n",
    "    elif choice == '2':\n",
    "        year = int(input(\"Enter the year (e.g., 2024): \"))\n",
    "        filtered_events = filter_events_dashboard(event_data, year=year)\n",
    "        print(filtered_events)\n",
    "    \n",
    "    elif choice == '3':\n",
    "        venue = input(\"Enter the venue name (e.g., Las Vegas Convention Center): \")\n",
    "        filtered_events = filter_events_dashboard(event_data, venue=venue)\n",
    "        print(filtered_events)\n",
    "    \n",
    "    elif choice == '4':\n",
    "        print(event_data[['Event', 'Start Date', 'End Date', 'Venue', 'Est Attendees']])\n",
    "\n",
    "# Main menu\n",
    "def main_menu():\n",
    "    while True:\n",
    "        print(\"\\n-------------   VegasIQ   ------------------\")\n",
    "        print(\" Las Vegas Travel and Convention Intelligence\")\n",
    "        print(\" ---------------------------------------------\")\n",
    "        print(\"1. Las Vegas Events Database\")\n",
    "        print(\"2. Las Vegas Weather Data\")\n",
    "        print(\"3. Las Vegas Airport Statistics\")\n",
    "        print(\"4. Clark County Room Inventory\")\n",
    "        print(\"5. Clark County Meeting Space Inventory\")\n",
    "        print(\"6. User Administration\")\n",
    "        print(\"7. System Exit\")\n",
    "        \n",
    "        choice = input(\"Enter your choice: \")\n",
    "        \n",
    "        if choice == '1':\n",
    "            events_database_menu()\n",
    "        elif choice == '7':\n",
    "            print(\"Exiting system...\")\n",
    "            break\n",
    "        else:\n",
    "            print(\"Option not implemented yet.\")\n",
    "\n",
    "# Start the program\n",
    "main_menu()\n"
   ]
  },
  {
   "cell_type": "code",
   "execution_count": null,
   "id": "efb1b107-00d8-42e4-8e36-3ca1ebcf436f",
   "metadata": {},
   "outputs": [],
   "source": []
  }
 ],
 "metadata": {
  "kernelspec": {
   "display_name": "Python 3 (ipykernel)",
   "language": "python",
   "name": "python3"
  },
  "language_info": {
   "codemirror_mode": {
    "name": "ipython",
    "version": 3
   },
   "file_extension": ".py",
   "mimetype": "text/x-python",
   "name": "python",
   "nbconvert_exporter": "python",
   "pygments_lexer": "ipython3",
   "version": "3.12.4"
  }
 },
 "nbformat": 4,
 "nbformat_minor": 5
}
